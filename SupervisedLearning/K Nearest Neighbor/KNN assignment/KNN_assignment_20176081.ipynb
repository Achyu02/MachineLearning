{
 "cells": [
  {
   "cell_type": "markdown",
   "metadata": {},
   "source": [
    "# K Nearest Neighbour\n",
    "The k-Nearest Neighbors (kNN) algorithm is arguably the simplest machine learning, KNN can be used for both classification and regression predictive problems. Informally, this means that we are given a labelled dataset consiting of training observations (x,y) and would like to capture the relationship between x and y. More formally, our goal is to learn a function h:X→Y so that given an unseen observation x, h(x) can confidently predict the corresponding output y. Building the model only consists of storing the training dataset. To make a prediction for a new data point, the algorithm finds the closest data points in the training dataset, it “nearest neighbors”."
   ]
  },
  {
   "cell_type": "code",
   "execution_count": 206,
   "metadata": {},
   "outputs": [],
   "source": [
    "from scipy.io import arff\n",
    "import numpy as np\n",
    "import pandas\n",
    "import sys\n",
    "sys.path.append('c:/users/achyu/appdata/local/programs/python/python36-32/lib/site-packages')\n",
    "import arff\n",
    "#train data\n",
    "dataset = arff.load(open('trainProdSelection.arff'))\n",
    "Dtrain_data=pandas.DataFrame(dataset['data'])\n",
    "Dtrain_attributes=pandas.DataFrame(dataset['attributes'])\n",
    "Dtrain_attributes[0]\n",
    "Dtrain_data.columns=Dtrain_attributes[0]\n",
    "Dtrain_data\n",
    "\n",
    "#test data\n",
    "test_dataset=arff.load(open('testProdSelection.arff'))\n",
    "Dtest_data=pandas.DataFrame(test_dataset['data'])\n",
    "Dtest_attributes=pandas.DataFrame(test_dataset['attributes'])\n",
    "Dtest_attributes[0]\n",
    "Dtest_data.columns=Dtest_attributes[0]"
   ]
  },
  {
   "cell_type": "code",
   "execution_count": 207,
   "metadata": {},
   "outputs": [],
   "source": [
    "Dtrain_label=list(Dtrain_data['label'])\n",
    "Dtest_label=list(Dtest_data['label'])\n",
    "Dtrain=Dtrain_data.drop(['label'], axis=1)\n",
    "Dtest=Dtest_data.drop(['label'], axis=1)"
   ]
  },
  {
   "cell_type": "markdown",
   "metadata": {},
   "source": [
    "### Performing Normalization :\n",
    "    X(Norm)= (X(i)-minimum(X))/(maximum(X)-minimum(X))"
   ]
  },
  {
   "cell_type": "code",
   "execution_count": 208,
   "metadata": {},
   "outputs": [],
   "source": [
    "col=['Vacation','eCredit','salary','property']\n",
    "#Dtrain[col]=(Dtrain[col]).apply(lambda x: round((x - np.mean(x)) / (np.std(x)),5))\n",
    "#Dtest[col]=(Dtest[col]).apply(lambda x: round((x - np.mean(x)) / (np.std(x)),5))\n",
    "Dtrain[col]=(Dtrain[col]).apply(lambda x: (x - min(x)) / (max(x)-min(x)))\n",
    "Dtest[col]=(Dtest[col]).apply(lambda x: (x - min(x)) /(max(x)-min(x)))\n",
    "#Dtrain[col]=(Dtrain[col].apply(lambda x:(x=min(x))/(max(x)-min(x))))"
   ]
  },
  {
   "cell_type": "markdown",
   "metadata": {},
   "source": [
    "### One hot Encoding:"
   ]
  },
  {
   "cell_type": "code",
   "execution_count": 209,
   "metadata": {},
   "outputs": [],
   "source": [
    "Dtrain=pandas.get_dummies(Dtrain,prefix=['Type','LifeStyle'],drop_first=True)\n",
    "Dtest=pandas.get_dummies(Dtest,prefix=['Type','LifeStyle'],drop_first=True)"
   ]
  },
  {
   "cell_type": "markdown",
   "metadata": {},
   "source": [
    "### Euclidean Distance:"
   ]
  },
  {
   "cell_type": "code",
   "execution_count": 210,
   "metadata": {},
   "outputs": [],
   "source": [
    "import math\n",
    "import pandas as pd\n",
    "import operator\n",
    "def EuclideanDistance(x,y):\n",
    "    distance = 0.0\n",
    "    for i in range(len(x)):\n",
    "        #print(x[i],\"test\")\n",
    "        #print(y[i],\"train\")\n",
    "        distance = distance+math.pow((float(x[i])-float(y[i])),2)\n",
    "        #print(distance,i,\"----------------\")\n",
    "    distance = math.sqrt(distance)\n",
    "    #print(distance)\n",
    "    #print(\"finished\")\n",
    "    return distance\n",
    "result1=[]\n",
    "def KNNmatch(train,test,k,train_label):\n",
    "    dictionary={}\n",
    "    p=0\n",
    "    for index, i in test.iterrows():\n",
    "        l1=[]\n",
    "        temp=[]\n",
    "        count={}\n",
    "        #print(i,\"test data\")\n",
    "        for index1, j in train.iterrows():\n",
    "            #print(index1)\n",
    "            #print(j)\n",
    "            dist=EuclideanDistance(i,j)\n",
    "            l1.append((dist,train_label[index1]))\n",
    "        l1.sort(key=operator.itemgetter(0))\n",
    "        #print(l1)\n",
    "        temp=l1[:k]\n",
    "        \n",
    "        for a in temp:\n",
    "            if a[1] in count:\n",
    "                count[a[1]]=count[a[1]]+1\n",
    "            else:\n",
    "                count[a[1]]=1\n",
    "        e=list(count.items())\n",
    "        d=pd.DataFrame(e)\n",
    "        dFilter=d[d[1]==d[1].max()]\n",
    "        fg = dFilter.sort_values(by = 0,ascending=True).head(1)\n",
    "        #print(fg[0].values[0])   \n",
    "        result1.append(fg[0].values[0])"
   ]
  },
  {
   "cell_type": "markdown",
   "metadata": {},
   "source": [
    "### Accuracy:\n",
    "    Accuracy=Number of correct labels/(Total number of actual labels)*100"
   ]
  },
  {
   "cell_type": "code",
   "execution_count": 211,
   "metadata": {},
   "outputs": [],
   "source": [
    "def accuracy(label):\n",
    "    pos=0\n",
    "    k1=0\n",
    "    for i in label:\n",
    "        #print(i,\"----------\",result1[k1])\n",
    "        if (i==result1[k1]):\n",
    "            pos=pos+1\n",
    "        k1=k1+1\n",
    "    #print(pos,\"positive values\")\n",
    "    accuracy=(pos/len(label))*100\n",
    "    return accuracy\n",
    "    #print(accuracy)"
   ]
  },
  {
   "cell_type": "code",
   "execution_count": 212,
   "metadata": {},
   "outputs": [
    {
     "data": {
      "image/png": "[encoded data removed]",
      "text/plain": [
       "<matplotlib.figure.Figure at 0x184ff9510f0>"
      ]
     },
     "metadata": {},
     "output_type": "display_data"
    }
   ],
   "source": [
    "import matplotlib.pyplot as plt\n",
    "acc=[] \n",
    "for i in range(3,10,2):\n",
    "    result1=[]\n",
    "    KNNmatch(Dtrain,Dtest,i,Dtrain_label)\n",
    "    acc.append(accuracy(Dtest_label))\n",
    "plt.plot(range(3,10,2),acc)\n",
    "plt.ylabel('Accuracy')\n",
    "plt.xlabel('K value')\n",
    "plt.show()"
   ]
  },
  {
   "cell_type": "markdown",
   "metadata": {},
   "source": [
    "### Observations:\n",
    "    When we calculated the accuracy between the train and test datasets we found the accuracy of about 28.57% ."
   ]
  },
  {
   "cell_type": "markdown",
   "metadata": {},
   "source": [
    "### Calculating accuracy through Validation:"
   ]
  },
  {
   "cell_type": "code",
   "execution_count": 213,
   "metadata": {},
   "outputs": [],
   "source": [
    "from sklearn.model_selection import train_test_split\n",
    "train, train_validation, train_labels, validation_labels = train_test_split(Dtrain_data, Dtrain_label, random_state = 1, test_size = 0.09)\n",
    "train=train.reset_index(drop=True)\n",
    "train_validation=train_validation.reset_index(drop=True)\n",
    "#train_labels=train_labels.reset_index(drop=True)\n",
    "#validation_labels=validation_labels.reset_index(drop=True)"
   ]
  },
  {
   "cell_type": "code",
   "execution_count": 214,
   "metadata": {},
   "outputs": [],
   "source": [
    "train=train.drop(['label'], axis=1)\n",
    "train_validation=train_validation.drop(['label'], axis=1)\n"
   ]
  },
  {
   "cell_type": "code",
   "execution_count": 215,
   "metadata": {},
   "outputs": [],
   "source": [
    "col=['Vacation','eCredit','salary','property']\n",
    "#train[col]=(train[col]).apply(lambda x: (x - np.mean(x)) / (np.std(x)))\n",
    "#train_validation[col]=(train_validation[col]).apply(lambda x: (x - np.mean(x)) / (np.std(x)))\n",
    "train[col]=(train[col]).apply(lambda x: (x - min(x)) / (max(x)-min(x)))\n",
    "train_validation[col]=(train_validation[col]).apply(lambda x: (x - min(x)) /(max(x)-min(x)))"
   ]
  },
  {
   "cell_type": "code",
   "execution_count": 216,
   "metadata": {},
   "outputs": [],
   "source": [
    "train=pandas.get_dummies(train,prefix=['Type','LifeStyle'],drop_first=True)\n",
    "train_validation=pandas.get_dummies(train_validation,prefix=['Type','LifeStyle'],drop_first=True)"
   ]
  },
  {
   "cell_type": "code",
   "execution_count": 217,
   "metadata": {},
   "outputs": [
    {
     "data": {
      "image/png": "[encoded data removed]",
      "text/plain": [
       "<matplotlib.figure.Figure at 0x184ffc565f8>"
      ]
     },
     "metadata": {},
     "output_type": "display_data"
    }
   ],
   "source": [
    "import matplotlib.pyplot as plt\n",
    "acc=[]\n",
    "for i in range(3,10,2):\n",
    "    result1=[]\n",
    "    KNNmatch(train,train_validation,i,train_labels)\n",
    "    acc.append(accuracy(validation_labels))\n",
    "plt.plot(range(3,10,2),acc)\n",
    "plt.ylabel('Accuracy')\n",
    "plt.xlabel('K value')\n",
    "plt.show()"
   ]
  },
  {
   "cell_type": "markdown",
   "metadata": {},
   "source": [
    "### Observations:\n",
    "    When we calculated the accuracy between the trained dataset and validation dataset then accuracy is about 87.5%"
   ]
  },
  {
   "cell_type": "code",
   "execution_count": 218,
   "metadata": {
    "scrolled": true
   },
   "outputs": [
    {
     "data": {
      "image/png": "[encoded data removed]",
      "text/plain": [
       "<matplotlib.figure.Figure at 0x184ffc1f4a8>"
      ]
     },
     "metadata": {},
     "output_type": "display_data"
    }
   ],
   "source": [
    "import matplotlib.pyplot as plt\n",
    "acc=[]\n",
    "for i in range(3,10,2):\n",
    "    result1=[]\n",
    "    KNNmatch(train,Dtest,i,train_labels)\n",
    "    acc.append(accuracy(Dtest_label))\n",
    "plt.plot(range(3,10,2),acc)\n",
    "plt.ylabel('Accuracy')\n",
    "plt.xlabel('K value')\n",
    "plt.show()"
   ]
  },
  {
   "cell_type": "markdown",
   "metadata": {},
   "source": [
    "### Observations:\n",
    "    When we calculated the accuracy between the train dataset for applied validation and testing dataset then we get \n",
    "    accuracy of 28.57%."
   ]
  }
 ],
 "metadata": {
  "kernelspec": {
   "display_name": "Python 3",
   "language": "python",
   "name": "python3"
  },
  "language_info": {
   "codemirror_mode": {
    "name": "ipython",
    "version": 3
   },
   "file_extension": ".py",
   "mimetype": "text/x-python",
   "name": "python",
   "nbconvert_exporter": "python",
   "pygments_lexer": "ipython3",
   "version": "3.6.4"
  }
 },
 "nbformat": 4,
 "nbformat_minor": 2
}
